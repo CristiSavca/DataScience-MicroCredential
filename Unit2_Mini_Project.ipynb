{
  "nbformat": 4,
  "nbformat_minor": 0,
  "metadata": {
    "colab": {
      "name": "Unit2_Mini_Project.ipynb",
      "provenance": [],
      "collapsed_sections": [],
      "include_colab_link": true
    },
    "kernelspec": {
      "name": "python3",
      "display_name": "Python 3"
    }
  },
  "cells": [
    {
      "cell_type": "markdown",
      "metadata": {
        "id": "view-in-github",
        "colab_type": "text"
      },
      "source": [
        "<a href=\"https://colab.research.google.com/github/CristiSavca/DataScience-MicroCredential/blob/main/Unit2_Mini_Project.ipynb\" target=\"_parent\"><img src=\"https://colab.research.google.com/assets/colab-badge.svg\" alt=\"Open In Colab\"/></a>"
      ]
    },
    {
      "cell_type": "markdown",
      "metadata": {
        "id": "Vgs8Kp4TidFQ"
      },
      "source": [
        "# Intrdouction to Python - Mini Project"
      ]
    },
    {
      "cell_type": "markdown",
      "metadata": {
        "id": "_Hq7Ny79iwgD"
      },
      "source": [
        "#Python Project – Odd or Even\n",
        "\n",
        "Ask the user for a number. Depending on whether the number is even or odd, print out an appropriate message to the user. Hint: how does an even / odd number react differently when divided by 2?\n"
      ]
    },
    {
      "cell_type": "code",
      "metadata": {
        "id": "lotvpVpvlKsR"
      },
      "source": [
        "def funct():\n",
        "  \"\"\"\n",
        "  this function takes in an input 'num' and prints out whether 'num' is even or odd\n",
        "  \"\"\"\n",
        "  num = int(input(\"Please enter a number: \"))\n",
        "  if num % 2 == 0:\n",
        "    print(num, \"is even\")\n",
        "  if num % 4 == 0:\n",
        "    print(num, \"is a multiple of 4\")\n",
        "  elif num % 2 != 0:\n",
        "    print(num, \"is odd\")"
      ],
      "execution_count": 13,
      "outputs": []
    },
    {
      "cell_type": "code",
      "metadata": {
        "id": "oNXY-CfrlLbE",
        "colab": {
          "base_uri": "https://localhost:8080/"
        },
        "outputId": "d20796b2-ec29-49fd-d4eb-2cf5fb9d4e45"
      },
      "source": [
        "funct()"
      ],
      "execution_count": 14,
      "outputs": [
        {
          "output_type": "stream",
          "name": "stdout",
          "text": [
            "Please enter a number: 54\n",
            "54 is even\n"
          ]
        }
      ]
    },
    {
      "cell_type": "markdown",
      "metadata": {
        "id": "io_27RSlizno"
      },
      "source": [
        "# Bonus:\n",
        "\n",
        "1.\tIf the number is a multiple of 4, print out a different message.\n",
        "\n",
        "2.\tAsk the user for two numbers: one number to check (call it num) and one number to divide by (check). If check divides evenly into num, tell that to the user. If not, print a different appropriate message.\n"
      ]
    },
    {
      "cell_type": "code",
      "metadata": {
        "id": "Dh1o5cAylSHB",
        "colab": {
          "base_uri": "https://localhost:8080/"
        },
        "outputId": "a8c83738-63ff-41ef-e6da-c0bed1509b50"
      },
      "source": [
        "# 1\n",
        "funct()"
      ],
      "execution_count": 15,
      "outputs": [
        {
          "output_type": "stream",
          "name": "stdout",
          "text": [
            "Please enter a number: 16\n",
            "16 is even\n",
            "16 is a multiple of 4\n"
          ]
        }
      ]
    },
    {
      "cell_type": "code",
      "metadata": {
        "id": "vs8ppR-wlSKL"
      },
      "source": [
        "# 2\n",
        "def funct():\n",
        "  \"\"\"\n",
        "  this function takes in an input 'num' and prints out whether 'num' is even or odd\n",
        "  \"\"\"\n",
        "  num = int(input(\"Please enter a number: \"))\n",
        "  check = int(input(\"Divide by: \"))\n",
        "  if num % check == 0:\n",
        "    print(check, \"divides evenly into\", num)\n",
        "  else:\n",
        "    print(check, \"doesn't divide evenly into\", num)"
      ],
      "execution_count": 1,
      "outputs": []
    },
    {
      "cell_type": "code",
      "metadata": {
        "id": "5mkKtxzunuqc",
        "colab": {
          "base_uri": "https://localhost:8080/"
        },
        "outputId": "bd4741be-f6a3-4837-c3ce-ca729a9597ad"
      },
      "source": [
        "funct()"
      ],
      "execution_count": 3,
      "outputs": [
        {
          "output_type": "stream",
          "name": "stdout",
          "text": [
            "Please enter a number: 25\n",
            "Divide by: 3\n",
            "3 doesn't divide evenly into 25\n"
          ]
        }
      ]
    }
  ]
}