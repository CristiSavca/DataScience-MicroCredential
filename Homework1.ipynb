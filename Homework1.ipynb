{
  "nbformat": 4,
  "nbformat_minor": 0,
  "metadata": {
    "colab": {
      "name": "Homework1.ipynb",
      "provenance": [],
      "collapsed_sections": [],
      "include_colab_link": true
    },
    "kernelspec": {
      "name": "python3",
      "display_name": "Python 3"
    },
    "language_info": {
      "name": "python"
    }
  },
  "cells": [
    {
      "cell_type": "markdown",
      "metadata": {
        "id": "view-in-github",
        "colab_type": "text"
      },
      "source": [
        "<a href=\"https://colab.research.google.com/github/CristiSavca/DataScience-MicroCredential/blob/main/Homework1.ipynb\" target=\"_parent\"><img src=\"https://colab.research.google.com/assets/colab-badge.svg\" alt=\"Open In Colab\"/></a>"
      ]
    },
    {
      "cell_type": "markdown",
      "source": [
        "# Answer all the questions!"
      ],
      "metadata": {
        "id": "FkJsXd8D06Rp"
      }
    },
    {
      "cell_type": "markdown",
      "source": [
        "##Write a Python program to get the volume of a sphere with radius 6"
      ],
      "metadata": {
        "id": "elOgKZR009ex"
      }
    },
    {
      "cell_type": "code",
      "source": [
        "pi = 3.14\n",
        "V = pi * 4.0/3.0 * 6 * 6 * 6\n",
        "print(V)"
      ],
      "metadata": {
        "id": "YbhKO6Cs09av",
        "colab": {
          "base_uri": "https://localhost:8080/"
        },
        "outputId": "ecd94026-3392-4cc7-838f-e1dfa9582063"
      },
      "execution_count": 3,
      "outputs": [
        {
          "output_type": "stream",
          "name": "stdout",
          "text": [
            "904.3199999999998\n"
          ]
        }
      ]
    },
    {
      "cell_type": "markdown",
      "source": [
        "##Write a Python program to find whether a given number (accept from the user) is even or odd"
      ],
      "metadata": {
        "id": "OuX7aazu09X1"
      }
    },
    {
      "cell_type": "code",
      "source": [
        "num = int(input(\"Enter number: \"))\n",
        "if num % 2 == 0: \n",
        "  print(\"is Even\")\n",
        "else: \n",
        "  print(\"is Odd\")"
      ],
      "metadata": {
        "colab": {
          "base_uri": "https://localhost:8080/"
        },
        "id": "VuPkeCPNq0Kd",
        "outputId": "4e3842a9-cd04-46fc-e4bc-3d9c7f6f2e7d"
      },
      "execution_count": 2,
      "outputs": [
        {
          "output_type": "stream",
          "name": "stdout",
          "text": [
            "Enter number: 4\n",
            "is Even\n"
          ]
        }
      ]
    },
    {
      "cell_type": "markdown",
      "source": [
        "##Write a Python program to count the number 4 in a given list"
      ],
      "metadata": {
        "id": "NP5TZKqO09Rr"
      }
    },
    {
      "cell_type": "code",
      "source": [
        "# use count funct \n",
        "lst = [1,4,3,6,4,6,2,4,24,45,9,4,6,4,50,10,454,89].count(4)\n",
        "print(lst)"
      ],
      "metadata": {
        "id": "oWZ3vTfW09Oh",
        "colab": {
          "base_uri": "https://localhost:8080/"
        },
        "outputId": "d831a268-a0c1-4e3d-847b-ffc81e3fddfa"
      },
      "execution_count": 1,
      "outputs": [
        {
          "output_type": "stream",
          "name": "stdout",
          "text": [
            "5\n"
          ]
        }
      ]
    },
    {
      "cell_type": "markdown",
      "source": [
        "##Write a Python program that will accept the base and height of a triangle and compute the area"
      ],
      "metadata": {
        "id": "IK0FvUoa1MJG"
      }
    },
    {
      "cell_type": "code",
      "source": [
        "num1 = int(input(\"Enter base: \"))\n",
        "num2 = int(input(\"Enter height: \"))\n",
        "\n",
        "area = 1/2 * num1 * num2\n",
        "print(area)"
      ],
      "metadata": {
        "id": "G02dv4rh1MFs",
        "colab": {
          "base_uri": "https://localhost:8080/"
        },
        "outputId": "a31bfb06-f9ba-4931-8961-df98e35623f5"
      },
      "execution_count": 4,
      "outputs": [
        {
          "output_type": "stream",
          "name": "stdout",
          "text": [
            "Enter base: 4\n",
            "Enter height: 4\n",
            "8.0\n"
          ]
        }
      ]
    },
    {
      "cell_type": "markdown",
      "source": [
        "##Write a Python program to convert the distance (in feet) to inches, yards, and miles."
      ],
      "metadata": {
        "id": "sOkeycZk1L5-"
      }
    },
    {
      "cell_type": "code",
      "source": [
        "num_distance_in_feet = int(input(\"Enter distance in feet: \"))\n",
        "feet_to_inches = num_distance_in_feet * 12\n",
        "print(feet_to_inches)\n",
        "feet_to_yards = num_distance_in_feet * 0.333333\n",
        "print(feet_to_yards)\n",
        "feet_to_miles = num_distance_in_feet * 0.000189394\n",
        "print(feet_to_miles)"
      ],
      "metadata": {
        "id": "YtW-ZxqB1L2c",
        "colab": {
          "base_uri": "https://localhost:8080/"
        },
        "outputId": "f6b289b7-6859-467c-ac34-43b8561a17f2"
      },
      "execution_count": 5,
      "outputs": [
        {
          "output_type": "stream",
          "name": "stdout",
          "text": [
            "Enter distance in feet: 4\n",
            "48\n",
            "1.333332\n",
            "0.000757576\n"
          ]
        }
      ]
    }
  ]
}